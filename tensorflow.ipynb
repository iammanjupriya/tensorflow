{
  "nbformat": 4,
  "nbformat_minor": 0,
  "metadata": {
    "colab": {
      "provenance": []
    },
    "kernelspec": {
      "name": "python3",
      "display_name": "Python 3"
    },
    "language_info": {
      "name": "python"
    }
  },
  "cells": [
    {
      "cell_type": "code",
      "execution_count": null,
      "metadata": {
        "id": "IJFgYcgo9TnZ"
      },
      "outputs": [],
      "source": [
        "import tensorflow as tf"
      ]
    },
    {
      "cell_type": "code",
      "source": [
        "print(tf.__version__)"
      ],
      "metadata": {
        "colab": {
          "base_uri": "https://localhost:8080/"
        },
        "id": "CWojfs_93bIh",
        "outputId": "d471ef6f-5266-402c-ecaa-d9836f834c56"
      },
      "execution_count": null,
      "outputs": [
        {
          "output_type": "stream",
          "name": "stdout",
          "text": [
            "2.15.0\n"
          ]
        }
      ]
    },
    {
      "cell_type": "code",
      "source": [
        "#create a constant tensor A\n",
        "\n",
        "A = tf.constant([[4,3],[6,1]]) #constant\n",
        "print(A)"
      ],
      "metadata": {
        "colab": {
          "base_uri": "https://localhost:8080/"
        },
        "id": "q3tf2FVg4Cgh",
        "outputId": "d7672efb-b780-4715-a434-fc535cb89f2a"
      },
      "execution_count": null,
      "outputs": [
        {
          "output_type": "stream",
          "name": "stdout",
          "text": [
            "tf.Tensor(\n",
            "[[4 3]\n",
            " [6 1]], shape=(2, 2), dtype=int32)\n"
          ]
        }
      ]
    },
    {
      "cell_type": "code",
      "source": [
        "#create a variable tensor V\n",
        "\n",
        "V = tf.Variable([[1,2,3],[4,5,6]]) #Variable\n",
        "print(V)\n",
        "B = tf.constant([[5,8],[9,5]]) #constant\n",
        "print(B)\n"
      ],
      "metadata": {
        "colab": {
          "base_uri": "https://localhost:8080/"
        },
        "id": "S63ufVmR5mvf",
        "outputId": "2b36dd45-439f-4a46-a211-0b1b8b402f19"
      },
      "execution_count": null,
      "outputs": [
        {
          "output_type": "stream",
          "name": "stdout",
          "text": [
            "<tf.Variable 'Variable:0' shape=(2, 3) dtype=int32, numpy=\n",
            "array([[1, 2, 3],\n",
            "       [4, 5, 6]], dtype=int32)>\n",
            "tf.Tensor(\n",
            "[[5 8]\n",
            " [9 5]], shape=(2, 2), dtype=int32)\n"
          ]
        }
      ]
    },
    {
      "cell_type": "code",
      "source": [
        "#concatenate\n",
        "\n",
        "AB = tf.concat([A,B],0)\n",
        "print(AB)"
      ],
      "metadata": {
        "colab": {
          "base_uri": "https://localhost:8080/"
        },
        "id": "l55MDVox6Rq5",
        "outputId": "c303bfab-3f63-49fe-c4dd-83b5b69bd0df"
      },
      "execution_count": null,
      "outputs": [
        {
          "output_type": "stream",
          "name": "stdout",
          "text": [
            "tf.Tensor(\n",
            "[[4 3]\n",
            " [6 1]\n",
            " [5 8]\n",
            " [9 5]], shape=(4, 2), dtype=int32)\n"
          ]
        }
      ]
    },
    {
      "cell_type": "code",
      "source": [
        "  tensor = tf.zeros([2,3])\n",
        "  print(tensor)"
      ],
      "metadata": {
        "colab": {
          "base_uri": "https://localhost:8080/"
        },
        "id": "AlsZvhcv7CEh",
        "outputId": "e53d192f-8e6b-42a5-cdfa-67d70e1a5593"
      },
      "execution_count": null,
      "outputs": [
        {
          "output_type": "stream",
          "name": "stdout",
          "text": [
            "tf.Tensor(\n",
            "[[0. 0. 0.]\n",
            " [0. 0. 0.]], shape=(2, 3), dtype=float32)\n"
          ]
        }
      ]
    },
    {
      "cell_type": "code",
      "source": [
        "  tensor = tf.ones([2,3])\n",
        "  print(tensor)"
      ],
      "metadata": {
        "colab": {
          "base_uri": "https://localhost:8080/"
        },
        "id": "buhk55gE7UCW",
        "outputId": "c33076c1-953d-4696-d227-106f04cda2de"
      },
      "execution_count": null,
      "outputs": [
        {
          "output_type": "stream",
          "name": "stdout",
          "text": [
            "tf.Tensor(\n",
            "[[1. 1. 1.]\n",
            " [1. 1. 1.]], shape=(2, 3), dtype=float32)\n"
          ]
        }
      ]
    },
    {
      "cell_type": "code",
      "source": [
        "tensor = tf.eye(3)\n",
        "print(tensor)"
      ],
      "metadata": {
        "colab": {
          "base_uri": "https://localhost:8080/"
        },
        "id": "oXOrhyl07lgx",
        "outputId": "be926b8e-5395-4f69-9a4a-fc2976a44733"
      },
      "execution_count": null,
      "outputs": [
        {
          "output_type": "stream",
          "name": "stdout",
          "text": [
            "tf.Tensor(\n",
            "[[1. 0. 0.]\n",
            " [0. 1. 0.]\n",
            " [0. 0. 1.]], shape=(3, 3), dtype=float32)\n"
          ]
        }
      ]
    },
    {
      "cell_type": "code",
      "source": [
        "tensor = tf.random.normal([2,3])\n",
        "print(tensor)"
      ],
      "metadata": {
        "colab": {
          "base_uri": "https://localhost:8080/"
        },
        "id": "Tia6M5SF7sXQ",
        "outputId": "532c9752-3d0e-492a-b16e-c237ce689092"
      },
      "execution_count": null,
      "outputs": [
        {
          "output_type": "stream",
          "name": "stdout",
          "text": [
            "tf.Tensor(\n",
            "[[-0.31467777  0.04405714 -0.15871798]\n",
            " [ 1.3451847  -0.10027208 -0.6462064 ]], shape=(2, 3), dtype=float32)\n"
          ]
        }
      ]
    },
    {
      "cell_type": "code",
      "source": [
        "tensor = tf.random.uniform([2,3])\n",
        "print(tensor)"
      ],
      "metadata": {
        "colab": {
          "base_uri": "https://localhost:8080/"
        },
        "id": "w5eIb_YX7xeI",
        "outputId": "2545a821-fbb0-40bc-bdb8-4dcbd2298089"
      },
      "execution_count": null,
      "outputs": [
        {
          "output_type": "stream",
          "name": "stdout",
          "text": [
            "tf.Tensor(\n",
            "[[0.6138401  0.83335245 0.61156285]\n",
            " [0.5994549  0.9080287  0.35594296]], shape=(2, 3), dtype=float32)\n"
          ]
        }
      ]
    },
    {
      "cell_type": "code",
      "source": [
        "shape = tf.reshape(tensor,[3,2])"
      ],
      "metadata": {
        "id": "Kls3SR3L8BQB"
      },
      "execution_count": null,
      "outputs": []
    },
    {
      "cell_type": "code",
      "source": [
        "#typecast\n",
        "\n",
        "tensor=tf.constant([[1.8,2.3],\n",
        "                   [4.2,5.5],\n",
        "                   [5.2,9.0],\n",
        "                   [7.1,2.5]],\n",
        "                   dtype=tf.float32)\n",
        "print(tensor)\n",
        "casted_tensor = tf.cast(tensor,dtype=tf.int32)\n",
        "print(casted_tensor)"
      ],
      "metadata": {
        "colab": {
          "base_uri": "https://localhost:8080/"
        },
        "id": "-ide2REgXF7t",
        "outputId": "28a7192f-418d-4c17-ce15-f003620b16a6"
      },
      "execution_count": null,
      "outputs": [
        {
          "output_type": "stream",
          "name": "stdout",
          "text": [
            "tf.Tensor(\n",
            "[[1.8 2.3]\n",
            " [4.2 5.5]\n",
            " [5.2 9. ]\n",
            " [7.1 2.5]], shape=(4, 2), dtype=float32)\n",
            "tf.Tensor(\n",
            "[[1 2]\n",
            " [4 5]\n",
            " [5 9]\n",
            " [7 2]], shape=(4, 2), dtype=int32)\n"
          ]
        }
      ]
    },
    {
      "cell_type": "code",
      "source": [
        "a=tf.transpose(tensor)\n",
        "print(a)"
      ],
      "metadata": {
        "colab": {
          "base_uri": "https://localhost:8080/"
        },
        "id": "W_gfaONGYsRg",
        "outputId": "ac77f3e4-c68c-4e72-b483-fe3f16198930"
      },
      "execution_count": null,
      "outputs": [
        {
          "output_type": "stream",
          "name": "stdout",
          "text": [
            "tf.Tensor(\n",
            "[[1.8 4.2 5.2 7.1]\n",
            " [2.3 5.5 9.  2.5]], shape=(2, 4), dtype=float32)\n"
          ]
        }
      ]
    },
    {
      "cell_type": "code",
      "source": [
        "a= tf.constant([[1,2],[4,5]])\n",
        "\n",
        "v = tf.constant([[5],\n",
        "                [6]])\n",
        "\n",
        "av = tf.matmul(a,v)\n",
        "print(av)\n"
      ],
      "metadata": {
        "colab": {
          "base_uri": "https://localhost:8080/"
        },
        "id": "Zxg-kLyJYyx7",
        "outputId": "d1df3bbe-955a-48ca-a55c-acf568c68ce2"
      },
      "execution_count": null,
      "outputs": [
        {
          "output_type": "stream",
          "name": "stdout",
          "text": [
            "tf.Tensor(\n",
            "[[17]\n",
            " [50]], shape=(2, 1), dtype=int32)\n"
          ]
        }
      ]
    },
    {
      "cell_type": "code",
      "source": [
        "av = tf.multiply(a,v)\n",
        "print(av)"
      ],
      "metadata": {
        "colab": {
          "base_uri": "https://localhost:8080/"
        },
        "id": "9oCafl3bZdqp",
        "outputId": "daa10126-4bdb-42cb-8d8e-1065d3b1953c"
      },
      "execution_count": null,
      "outputs": [
        {
          "output_type": "stream",
          "name": "stdout",
          "text": [
            "tf.Tensor(\n",
            "[[ 5 10]\n",
            " [24 30]], shape=(2, 2), dtype=int32)\n"
          ]
        }
      ]
    },
    {
      "cell_type": "code",
      "source": [
        "import datetime, warnings,scipy\n",
        "import pandas as pd\n",
        "import numpy as np\n",
        "import seaborn as sns\n",
        "import matplotlib.pyplot as plt\n",
        "import matplotlib as mpl\n",
        "plt.style.use(\"fivethirtyeight\")\n",
        "mpl.rcParams[\"patch.force_edgecolor\"] = True\n",
        "warnings.filterwarnings(\"ignore\")\n",
        "%matplotlib inline\n",
        "mpl.rc('patch',edgecolor='black',linewidth=1)\n",
        "from IPython.core.interactiveshell import InteractiveShell\n",
        "InteractiveShell.ast_node_interactivity = \"all\"\n",
        "pd.set_option('display.max_columns',None)"
      ],
      "metadata": {
        "id": "jANTSmhUbNyV"
      },
      "execution_count": 1,
      "outputs": []
    },
    {
      "cell_type": "code",
      "source": [
        "mnist = tf.keras.datasets.mnist\n",
        "\n",
        "(x_train, y_train), (x_test, y_test) = mnist.load_data()\n",
        "x_train, x_test = x_train / 255.0, x_test / 255.0"
      ],
      "metadata": {
        "colab": {
          "base_uri": "https://localhost:8080/"
        },
        "id": "uDCyD6nS1jXm",
        "outputId": "53edc86c-029a-4a52-de62-28f380bbe369"
      },
      "execution_count": null,
      "outputs": [
        {
          "output_type": "stream",
          "name": "stdout",
          "text": [
            "Downloading data from https://storage.googleapis.com/tensorflow/tf-keras-datasets/mnist.npz\n",
            "11490434/11490434 [==============================] - 0s 0us/step\n"
          ]
        }
      ]
    },
    {
      "cell_type": "code",
      "source": [
        "model = tf.keras.models.Sequential([\n",
        "  tf.keras.layers.Flatten(input_shape=(28, 28)),\n",
        "  tf.keras.layers.Dense(128, activation='relu'),\n",
        "  tf.keras.layers.Dropout(0.2),\n",
        "  tf.keras.layers.Dense(10)\n",
        "])"
      ],
      "metadata": {
        "id": "BwI0Ilxi18n_"
      },
      "execution_count": null,
      "outputs": []
    },
    {
      "cell_type": "code",
      "source": [
        "predictions = model(x_train[:1]).numpy()\n",
        "predictions"
      ],
      "metadata": {
        "colab": {
          "base_uri": "https://localhost:8080/"
        },
        "id": "ccqZFn7L2HMV",
        "outputId": "ace118e4-6397-4076-fe8b-2637d203e874"
      },
      "execution_count": null,
      "outputs": [
        {
          "output_type": "execute_result",
          "data": {
            "text/plain": [
              "array([[ 0.48895955, -0.2060877 , -0.04512563,  0.28095743, -0.15199111,\n",
              "        -0.3010535 ,  0.05707809, -0.3373923 ,  0.3242361 ,  0.29012412]],\n",
              "      dtype=float32)"
            ]
          },
          "metadata": {},
          "execution_count": 28
        }
      ]
    },
    {
      "cell_type": "code",
      "source": [
        "tf.nn.softmax(predictions).numpy()"
      ],
      "metadata": {
        "colab": {
          "base_uri": "https://localhost:8080/"
        },
        "id": "eIhyRmtX2Jzj",
        "outputId": "b2181725-5af0-48ee-efa6-2672d17229bc"
      },
      "execution_count": null,
      "outputs": [
        {
          "output_type": "execute_result",
          "data": {
            "text/plain": [
              "array([[0.1507651 , 0.07523946, 0.0883793 , 0.12245223, 0.07942176,\n",
              "        0.06842306, 0.09788972, 0.06598129, 0.12786813, 0.12357987]],\n",
              "      dtype=float32)"
            ]
          },
          "metadata": {},
          "execution_count": 29
        }
      ]
    },
    {
      "cell_type": "code",
      "source": [
        "loss_fn = tf.keras.losses.SparseCategoricalCrossentropy(from_logits=True)"
      ],
      "metadata": {
        "id": "KH4zE1rd2Nss"
      },
      "execution_count": null,
      "outputs": []
    },
    {
      "cell_type": "code",
      "source": [
        "loss_fn(y_train[:1], predictions).numpy()"
      ],
      "metadata": {
        "colab": {
          "base_uri": "https://localhost:8080/"
        },
        "id": "J7aFQoyn2RO8",
        "outputId": "6ee8a63a-3540-41cb-e8c5-b63222dbf351"
      },
      "execution_count": null,
      "outputs": [
        {
          "output_type": "execute_result",
          "data": {
            "text/plain": [
              "2.6820455"
            ]
          },
          "metadata": {},
          "execution_count": 31
        }
      ]
    },
    {
      "cell_type": "code",
      "source": [
        "model.compile(optimizer='adam',\n",
        "              loss=loss_fn,\n",
        "              metrics=['accuracy'])"
      ],
      "metadata": {
        "id": "hyXjNa5S2Uam"
      },
      "execution_count": null,
      "outputs": []
    },
    {
      "cell_type": "code",
      "source": [
        "model.fit(x_train, y_train, epochs=5)"
      ],
      "metadata": {
        "colab": {
          "base_uri": "https://localhost:8080/"
        },
        "id": "6Iaj9ild2W32",
        "outputId": "6b727457-56e3-44eb-fc68-d7a649a9c519"
      },
      "execution_count": null,
      "outputs": [
        {
          "output_type": "stream",
          "name": "stdout",
          "text": [
            "Epoch 1/5\n",
            "1875/1875 [==============================] - 6s 3ms/step - loss: 0.2939 - accuracy: 0.9147\n",
            "Epoch 2/5\n",
            "1875/1875 [==============================] - 7s 4ms/step - loss: 0.1396 - accuracy: 0.9578\n",
            "Epoch 3/5\n",
            "1875/1875 [==============================] - 5s 3ms/step - loss: 0.1069 - accuracy: 0.9679\n",
            "Epoch 4/5\n",
            "1875/1875 [==============================] - 7s 4ms/step - loss: 0.0854 - accuracy: 0.9735\n",
            "Epoch 5/5\n",
            "1875/1875 [==============================] - 5s 3ms/step - loss: 0.0734 - accuracy: 0.9766\n"
          ]
        },
        {
          "output_type": "execute_result",
          "data": {
            "text/plain": [
              "<keras.src.callbacks.History at 0x7cbfd50dfa30>"
            ]
          },
          "metadata": {},
          "execution_count": 33
        }
      ]
    },
    {
      "cell_type": "code",
      "source": [
        "model.evaluate(x_test,  y_test, verbose=2)"
      ],
      "metadata": {
        "colab": {
          "base_uri": "https://localhost:8080/"
        },
        "id": "UrGxhh6f2ti1",
        "outputId": "d36f2eed-a541-43e9-c2c8-70084de5ec53"
      },
      "execution_count": null,
      "outputs": [
        {
          "output_type": "stream",
          "name": "stdout",
          "text": [
            "313/313 - 1s - loss: 0.0728 - accuracy: 0.9770 - 568ms/epoch - 2ms/step\n"
          ]
        },
        {
          "output_type": "execute_result",
          "data": {
            "text/plain": [
              "[0.07284731417894363, 0.9769999980926514]"
            ]
          },
          "metadata": {},
          "execution_count": 34
        }
      ]
    },
    {
      "cell_type": "code",
      "source": [
        "probability_model = tf.keras.Sequential([\n",
        "  model,\n",
        "  tf.keras.layers.Softmax()\n",
        "])"
      ],
      "metadata": {
        "id": "dVFsCJMm24Bm"
      },
      "execution_count": null,
      "outputs": []
    },
    {
      "cell_type": "code",
      "source": [
        "probability_model(x_test[:5])"
      ],
      "metadata": {
        "colab": {
          "base_uri": "https://localhost:8080/"
        },
        "id": "DbtAFGXA267V",
        "outputId": "d2ae04d5-1238-4d5b-a159-deeec5b030f7"
      },
      "execution_count": null,
      "outputs": [
        {
          "output_type": "execute_result",
          "data": {
            "text/plain": [
              "<tf.Tensor: shape=(5, 10), dtype=float32, numpy=\n",
              "array([[6.6525580e-08, 6.8419830e-08, 1.3385775e-05, 3.8034844e-04,\n",
              "        5.3927046e-10, 1.0284947e-06, 4.9085231e-13, 9.9960071e-01,\n",
              "        1.4282972e-07, 4.2602164e-06],\n",
              "       [1.0641706e-08, 2.1432564e-04, 9.9978381e-01, 1.4208855e-06,\n",
              "        8.1959488e-13, 1.5254282e-07, 2.2817845e-08, 1.7940839e-12,\n",
              "        3.3090734e-07, 1.6817572e-12],\n",
              "       [5.6536042e-08, 9.9908245e-01, 4.7488484e-05, 3.7865216e-06,\n",
              "        2.4041998e-05, 9.8663031e-07, 8.2681499e-06, 7.8303827e-04,\n",
              "        4.8903967e-05, 1.1678907e-06],\n",
              "       [9.9991667e-01, 4.3672284e-09, 3.7177684e-05, 4.6746985e-07,\n",
              "        1.9392272e-07, 1.7034616e-05, 6.3029524e-06, 1.6861175e-05,\n",
              "        4.6447292e-07, 4.7341869e-06],\n",
              "       [6.4956072e-07, 8.9029828e-10, 2.7677966e-06, 2.2362395e-08,\n",
              "        9.9817979e-01, 1.5586141e-07, 2.4197625e-06, 1.4575302e-05,\n",
              "        6.9874756e-07, 1.7989199e-03]], dtype=float32)>"
            ]
          },
          "metadata": {},
          "execution_count": 36
        }
      ]
    }
  ]
}